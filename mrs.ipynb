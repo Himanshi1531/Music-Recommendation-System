{
 "cells": [
  {
   "cell_type": "code",
   "execution_count": 62,
   "id": "17993975-96d3-4b3f-b1ee-8536eecade52",
   "metadata": {},
   "outputs": [],
   "source": [
    "import pandas as pd"
   ]
  },
  {
   "cell_type": "code",
   "execution_count": 64,
   "id": "fb09c632-db78-4633-b95e-dee91b1b6649",
   "metadata": {},
   "outputs": [],
   "source": [
    "df = pd.read_csv(\"spotify_millsongdata.csv\")"
   ]
  },
  {
   "cell_type": "code",
   "execution_count": 65,
   "id": "5d84f2ba-7359-4da4-a4ce-3b2c90927ca4",
   "metadata": {},
   "outputs": [
    {
     "data": {
      "text/html": [
       "<div>\n",
       "<style scoped>\n",
       "    .dataframe tbody tr th:only-of-type {\n",
       "        vertical-align: middle;\n",
       "    }\n",
       "\n",
       "    .dataframe tbody tr th {\n",
       "        vertical-align: top;\n",
       "    }\n",
       "\n",
       "    .dataframe thead th {\n",
       "        text-align: right;\n",
       "    }\n",
       "</style>\n",
       "<table border=\"1\" class=\"dataframe\">\n",
       "  <thead>\n",
       "    <tr style=\"text-align: right;\">\n",
       "      <th></th>\n",
       "      <th>artist</th>\n",
       "      <th>song</th>\n",
       "      <th>link</th>\n",
       "      <th>text</th>\n",
       "    </tr>\n",
       "  </thead>\n",
       "  <tbody>\n",
       "    <tr>\n",
       "      <th>0</th>\n",
       "      <td>ABBA</td>\n",
       "      <td>Ahe's My Kind Of Girl</td>\n",
       "      <td>/a/abba/ahes+my+kind+of+girl_20598417.html</td>\n",
       "      <td>Look at her face, it's a wonderful face  \\r\\nA...</td>\n",
       "    </tr>\n",
       "    <tr>\n",
       "      <th>1</th>\n",
       "      <td>ABBA</td>\n",
       "      <td>Andante, Andante</td>\n",
       "      <td>/a/abba/andante+andante_20002708.html</td>\n",
       "      <td>Take it easy with me, please  \\r\\nTouch me gen...</td>\n",
       "    </tr>\n",
       "    <tr>\n",
       "      <th>2</th>\n",
       "      <td>ABBA</td>\n",
       "      <td>As Good As New</td>\n",
       "      <td>/a/abba/as+good+as+new_20003033.html</td>\n",
       "      <td>I'll never know why I had to go  \\r\\nWhy I had...</td>\n",
       "    </tr>\n",
       "    <tr>\n",
       "      <th>3</th>\n",
       "      <td>ABBA</td>\n",
       "      <td>Bang</td>\n",
       "      <td>/a/abba/bang_20598415.html</td>\n",
       "      <td>Making somebody happy is a question of give an...</td>\n",
       "    </tr>\n",
       "    <tr>\n",
       "      <th>4</th>\n",
       "      <td>ABBA</td>\n",
       "      <td>Bang-A-Boomerang</td>\n",
       "      <td>/a/abba/bang+a+boomerang_20002668.html</td>\n",
       "      <td>Making somebody happy is a question of give an...</td>\n",
       "    </tr>\n",
       "  </tbody>\n",
       "</table>\n",
       "</div>"
      ],
      "text/plain": [
       "  artist                   song                                        link  \\\n",
       "0   ABBA  Ahe's My Kind Of Girl  /a/abba/ahes+my+kind+of+girl_20598417.html   \n",
       "1   ABBA       Andante, Andante       /a/abba/andante+andante_20002708.html   \n",
       "2   ABBA         As Good As New        /a/abba/as+good+as+new_20003033.html   \n",
       "3   ABBA                   Bang                  /a/abba/bang_20598415.html   \n",
       "4   ABBA       Bang-A-Boomerang      /a/abba/bang+a+boomerang_20002668.html   \n",
       "\n",
       "                                                text  \n",
       "0  Look at her face, it's a wonderful face  \\r\\nA...  \n",
       "1  Take it easy with me, please  \\r\\nTouch me gen...  \n",
       "2  I'll never know why I had to go  \\r\\nWhy I had...  \n",
       "3  Making somebody happy is a question of give an...  \n",
       "4  Making somebody happy is a question of give an...  "
      ]
     },
     "execution_count": 65,
     "metadata": {},
     "output_type": "execute_result"
    }
   ],
   "source": [
    "df.head(5)"
   ]
  },
  {
   "cell_type": "code",
   "execution_count": 68,
   "id": "dcb24d61-7c8b-42c6-bfc4-667893eda121",
   "metadata": {},
   "outputs": [],
   "source": [
    "df = df.sample(5000).drop('link', axis=1).reset_index(drop=True)"
   ]
  },
  {
   "cell_type": "code",
   "execution_count": 70,
   "id": "19e311b5-b471-4839-b938-8887959e1f5a",
   "metadata": {},
   "outputs": [],
   "source": [
    "df['text'] = df['text'].str.lower().replace(r'^\\w\\s', ' ').replace(r'\\n', ' ',regex = True).replace(r'\\r', ' ',regex = True)"
   ]
  },
  {
   "cell_type": "code",
   "execution_count": 72,
   "id": "2a1c94eb-5dde-4a87-929e-f7475204161e",
   "metadata": {},
   "outputs": [
    {
     "data": {
      "text/plain": [
       "(5000, 3)"
      ]
     },
     "execution_count": 72,
     "metadata": {},
     "output_type": "execute_result"
    }
   ],
   "source": [
    "df.shape"
   ]
  },
  {
   "cell_type": "code",
   "execution_count": 74,
   "id": "695867bd-3c05-4bde-b308-2cc57e93ec84",
   "metadata": {},
   "outputs": [
    {
     "data": {
      "text/html": [
       "<div>\n",
       "<style scoped>\n",
       "    .dataframe tbody tr th:only-of-type {\n",
       "        vertical-align: middle;\n",
       "    }\n",
       "\n",
       "    .dataframe tbody tr th {\n",
       "        vertical-align: top;\n",
       "    }\n",
       "\n",
       "    .dataframe thead th {\n",
       "        text-align: right;\n",
       "    }\n",
       "</style>\n",
       "<table border=\"1\" class=\"dataframe\">\n",
       "  <thead>\n",
       "    <tr style=\"text-align: right;\">\n",
       "      <th></th>\n",
       "      <th>artist</th>\n",
       "      <th>song</th>\n",
       "      <th>text</th>\n",
       "    </tr>\n",
       "  </thead>\n",
       "  <tbody>\n",
       "    <tr>\n",
       "      <th>0</th>\n",
       "      <td>Evanescence</td>\n",
       "      <td>Together Again</td>\n",
       "      <td>never thought that i'd be leaving you today   ...</td>\n",
       "    </tr>\n",
       "    <tr>\n",
       "      <th>1</th>\n",
       "      <td>Kylie Minogue</td>\n",
       "      <td>Did It Again</td>\n",
       "      <td>clever girl    think you are but you think too...</td>\n",
       "    </tr>\n",
       "    <tr>\n",
       "      <th>2</th>\n",
       "      <td>Vertical Horizon</td>\n",
       "      <td>Can You Help Me</td>\n",
       "      <td>can you finally reach me    out beyond the blu...</td>\n",
       "    </tr>\n",
       "    <tr>\n",
       "      <th>3</th>\n",
       "      <td>Nirvana</td>\n",
       "      <td>Lake Of Fire</td>\n",
       "      <td>[chorus:]    where do bad folks go when they d...</td>\n",
       "    </tr>\n",
       "    <tr>\n",
       "      <th>4</th>\n",
       "      <td>Grease</td>\n",
       "      <td>Beauty School Drop Out</td>\n",
       "      <td>your story's sad to tell, a teenage ne'er-do-w...</td>\n",
       "    </tr>\n",
       "    <tr>\n",
       "      <th>...</th>\n",
       "      <td>...</td>\n",
       "      <td>...</td>\n",
       "      <td>...</td>\n",
       "    </tr>\n",
       "    <tr>\n",
       "      <th>4995</th>\n",
       "      <td>Omd</td>\n",
       "      <td>Dollar Girl</td>\n",
       "      <td>when you know the dollar girl    is coming hom...</td>\n",
       "    </tr>\n",
       "    <tr>\n",
       "      <th>4996</th>\n",
       "      <td>Kenny Loggins</td>\n",
       "      <td>With This Ring</td>\n",
       "      <td>i have believed i would always be free and wil...</td>\n",
       "    </tr>\n",
       "    <tr>\n",
       "      <th>4997</th>\n",
       "      <td>The White Stripes</td>\n",
       "      <td>Stop Breaking Down</td>\n",
       "      <td>some pretty mama she starts    breakin' down  ...</td>\n",
       "    </tr>\n",
       "    <tr>\n",
       "      <th>4998</th>\n",
       "      <td>Westlife</td>\n",
       "      <td>Until The End Of Time</td>\n",
       "      <td>until the end of time        i...</td>\n",
       "    </tr>\n",
       "    <tr>\n",
       "      <th>4999</th>\n",
       "      <td>Miley Cyrus</td>\n",
       "      <td>Old Blue Jeans</td>\n",
       "      <td>you walk away from me tonight    not knowing t...</td>\n",
       "    </tr>\n",
       "  </tbody>\n",
       "</table>\n",
       "<p>5000 rows × 3 columns</p>\n",
       "</div>"
      ],
      "text/plain": [
       "                 artist                    song  \\\n",
       "0           Evanescence          Together Again   \n",
       "1         Kylie Minogue            Did It Again   \n",
       "2      Vertical Horizon         Can You Help Me   \n",
       "3               Nirvana            Lake Of Fire   \n",
       "4                Grease  Beauty School Drop Out   \n",
       "...                 ...                     ...   \n",
       "4995                Omd             Dollar Girl   \n",
       "4996      Kenny Loggins          With This Ring   \n",
       "4997  The White Stripes      Stop Breaking Down   \n",
       "4998           Westlife   Until The End Of Time   \n",
       "4999        Miley Cyrus          Old Blue Jeans   \n",
       "\n",
       "                                                   text  \n",
       "0     never thought that i'd be leaving you today   ...  \n",
       "1     clever girl    think you are but you think too...  \n",
       "2     can you finally reach me    out beyond the blu...  \n",
       "3     [chorus:]    where do bad folks go when they d...  \n",
       "4     your story's sad to tell, a teenage ne'er-do-w...  \n",
       "...                                                 ...  \n",
       "4995  when you know the dollar girl    is coming hom...  \n",
       "4996  i have believed i would always be free and wil...  \n",
       "4997  some pretty mama she starts    breakin' down  ...  \n",
       "4998                  until the end of time        i...  \n",
       "4999  you walk away from me tonight    not knowing t...  \n",
       "\n",
       "[5000 rows x 3 columns]"
      ]
     },
     "execution_count": 74,
     "metadata": {},
     "output_type": "execute_result"
    }
   ],
   "source": [
    "df"
   ]
  },
  {
   "cell_type": "code",
   "execution_count": 76,
   "id": "456e6244-f42e-4c97-947f-05c65d82bc74",
   "metadata": {},
   "outputs": [],
   "source": [
    "import nltk\n",
    "from nltk.stem.porter import PorterStemmer\n",
    "stemmer = PorterStemmer()\n",
    "\n",
    "def token(txt):\n",
    "    token = nltk.word_tokenize(txt)\n",
    "    stemming = [stemmer.stem(w) for w in token]\n",
    "    return \" \".join(stemming)"
   ]
  },
  {
   "cell_type": "code",
   "execution_count": 78,
   "id": "88348e40-7ac8-4829-8507-e812249f2e8f",
   "metadata": {},
   "outputs": [
    {
     "data": {
      "text/plain": [
       "'you are beauti , beauti'"
      ]
     },
     "execution_count": 78,
     "metadata": {},
     "output_type": "execute_result"
    }
   ],
   "source": [
    "token(\"you are beautiful, beauty\")"
   ]
  },
  {
   "cell_type": "code",
   "execution_count": 80,
   "id": "b9373f4b-22d9-46a5-8889-b180cf67cdd7",
   "metadata": {},
   "outputs": [
    {
     "data": {
      "text/plain": [
       "0       never thought that i 'd be leav you today so a...\n",
       "1       clever girl think you are but you think too mu...\n",
       "2       can you final reach me out beyond the blue i '...\n",
       "3       [ choru : ] where do bad folk go when they die...\n",
       "4       your stori 's sad to tell , a teenag ne'er-do-...\n",
       "                              ...                        \n",
       "4995    when you know the dollar girl is come home aga...\n",
       "4996    i have believ i would alway be free and wild ....\n",
       "4997    some pretti mama she start breakin ' down stop...\n",
       "4998    until the end of time i 'm long for you and if...\n",
       "4999    you walk away from me tonight not know the rea...\n",
       "Name: text, Length: 5000, dtype: object"
      ]
     },
     "execution_count": 80,
     "metadata": {},
     "output_type": "execute_result"
    }
   ],
   "source": [
    "df['text'].apply(lambda x: token(x))"
   ]
  },
  {
   "cell_type": "code",
   "execution_count": 82,
   "id": "a27fb03e-db50-41ab-b04d-004af64599a2",
   "metadata": {},
   "outputs": [],
   "source": [
    "from sklearn.feature_extraction.text import TfidfVectorizer\n",
    "from sklearn.metrics.pairwise import cosine_similarity"
   ]
  },
  {
   "cell_type": "code",
   "execution_count": 84,
   "id": "b7bfaabe-1039-41ac-8099-24fa7c1cd356",
   "metadata": {},
   "outputs": [],
   "source": [
    "tfid = TfidfVectorizer(analyzer='word',stop_words='english')"
   ]
  },
  {
   "cell_type": "code",
   "execution_count": 86,
   "id": "5668890c-a9bd-463a-b96f-1286dc051478",
   "metadata": {},
   "outputs": [],
   "source": [
    "matrix = tfid.fit_transform(df['text'])"
   ]
  },
  {
   "cell_type": "code",
   "execution_count": 88,
   "id": "b2caa5ad-83bc-4ed5-8bb1-ab88d2b69bc6",
   "metadata": {},
   "outputs": [],
   "source": [
    "similar = cosine_similarity(matrix)"
   ]
  },
  {
   "cell_type": "code",
   "execution_count": 90,
   "id": "1820c020-738b-4c94-8681-0bd4d053fad4",
   "metadata": {},
   "outputs": [
    {
     "data": {
      "text/plain": [
       "array([1.        , 0.01614372, 0.0501646 , ..., 0.04430833, 0.1958755 ,\n",
       "       0.01031723])"
      ]
     },
     "execution_count": 90,
     "metadata": {},
     "output_type": "execute_result"
    }
   ],
   "source": [
    "similar[0]"
   ]
  },
  {
   "cell_type": "code",
   "execution_count": 94,
   "id": "f40cbf86-919f-408f-be7f-ed8cefc19e5d",
   "metadata": {},
   "outputs": [
    {
     "data": {
      "text/html": [
       "<div>\n",
       "<style scoped>\n",
       "    .dataframe tbody tr th:only-of-type {\n",
       "        vertical-align: middle;\n",
       "    }\n",
       "\n",
       "    .dataframe tbody tr th {\n",
       "        vertical-align: top;\n",
       "    }\n",
       "\n",
       "    .dataframe thead th {\n",
       "        text-align: right;\n",
       "    }\n",
       "</style>\n",
       "<table border=\"1\" class=\"dataframe\">\n",
       "  <thead>\n",
       "    <tr style=\"text-align: right;\">\n",
       "      <th></th>\n",
       "      <th>artist</th>\n",
       "      <th>song</th>\n",
       "      <th>text</th>\n",
       "    </tr>\n",
       "  </thead>\n",
       "  <tbody>\n",
       "    <tr>\n",
       "      <th>0</th>\n",
       "      <td>Evanescence</td>\n",
       "      <td>Together Again</td>\n",
       "      <td>never thought that i'd be leaving you today   ...</td>\n",
       "    </tr>\n",
       "    <tr>\n",
       "      <th>3896</th>\n",
       "      <td>'n Sync</td>\n",
       "      <td>Together Again</td>\n",
       "      <td>how can i say that i love you    when you're s...</td>\n",
       "    </tr>\n",
       "  </tbody>\n",
       "</table>\n",
       "</div>"
      ],
      "text/plain": [
       "           artist            song  \\\n",
       "0     Evanescence  Together Again   \n",
       "3896      'n Sync  Together Again   \n",
       "\n",
       "                                                   text  \n",
       "0     never thought that i'd be leaving you today   ...  \n",
       "3896  how can i say that i love you    when you're s...  "
      ]
     },
     "execution_count": 94,
     "metadata": {},
     "output_type": "execute_result"
    }
   ],
   "source": [
    "df[df['song'] == 'Together Again']"
   ]
  },
  {
   "cell_type": "code",
   "execution_count": 96,
   "id": "85a2a02d-2234-43a6-9754-76e1ad8b29dd",
   "metadata": {},
   "outputs": [
    {
     "data": {
      "text/plain": [
       "0"
      ]
     },
     "execution_count": 96,
     "metadata": {},
     "output_type": "execute_result"
    }
   ],
   "source": [
    "df[df['song'] == 'Together Again'].index[0]"
   ]
  },
  {
   "cell_type": "markdown",
   "id": "3227434d-e1dc-480c-be64-b6b97bb13353",
   "metadata": {},
   "source": [
    "Recommender Function"
   ]
  },
  {
   "cell_type": "code",
   "execution_count": 107,
   "id": "e316cab7-0c03-4148-81f3-920d632ee16d",
   "metadata": {},
   "outputs": [],
   "source": [
    "def recommendation(song_name):\n",
    "    idx = df[df['song'] == song_name].index[0]\n",
    "    distances = sorted(list(enumerate(similar[idx])),reverse=True,key=lambda x:x[1])\n",
    "\n",
    "    song = []\n",
    "    for s_id in distances[1:21]:\n",
    "        song.append(df.iloc[s_id[0]].song)\n",
    "        \n",
    "    return song"
   ]
  },
  {
   "cell_type": "code",
   "execution_count": 109,
   "id": "816cb5c7-9b52-4e8b-a864-6537c6520134",
   "metadata": {},
   "outputs": [
    {
     "data": {
      "text/plain": [
       "[\"There's A World\",\n",
       " 'The Dream Is Over',\n",
       " 'Soulitude',\n",
       " 'Dream Love',\n",
       " 'At The End Of A Rainbow',\n",
       " 'Missing You-Featuring Amy Lee',\n",
       " 'Monster',\n",
       " 'I Still Believe',\n",
       " 'Dreaming My Dreams With You',\n",
       " \"I'll Be There For You\",\n",
       " 'All The World',\n",
       " 'Forevermore',\n",
       " 'I Need Your Love',\n",
       " 'Why Did She Have To Leave Me (Why Did She Have To Go?)',\n",
       " 'The World We Live In',\n",
       " 'Dream Baby',\n",
       " 'Nobody',\n",
       " 'Oh, My Love',\n",
       " 'Until The End Of Time',\n",
       " 'My Kind Of Lady']"
      ]
     },
     "execution_count": 109,
     "metadata": {},
     "output_type": "execute_result"
    }
   ],
   "source": [
    "recommendation('Together Again')"
   ]
  },
  {
   "cell_type": "code",
   "execution_count": 111,
   "id": "6b1abc48-d129-4a13-82b7-b2959d1787a5",
   "metadata": {},
   "outputs": [],
   "source": [
    "import pickle"
   ]
  },
  {
   "cell_type": "code",
   "execution_count": 113,
   "id": "50d22f24-786a-4da1-a856-2e84bce32e64",
   "metadata": {},
   "outputs": [],
   "source": [
    "pickle.dump(similar,open('similarity.pkl','wb'))"
   ]
  },
  {
   "cell_type": "code",
   "execution_count": 115,
   "id": "634b5795-1d3e-4fcc-92e9-d852928450f6",
   "metadata": {},
   "outputs": [],
   "source": [
    "pickle.dump(df,open('df.pkl','wb'))"
   ]
  },
  {
   "cell_type": "code",
   "execution_count": null,
   "id": "222f1288-c173-4e97-b6e6-8dc4a769219e",
   "metadata": {},
   "outputs": [],
   "source": []
  }
 ],
 "metadata": {
  "kernelspec": {
   "display_name": "Python 3 (ipykernel)",
   "language": "python",
   "name": "python3"
  },
  "language_info": {
   "codemirror_mode": {
    "name": "ipython",
    "version": 3
   },
   "file_extension": ".py",
   "mimetype": "text/x-python",
   "name": "python",
   "nbconvert_exporter": "python",
   "pygments_lexer": "ipython3",
   "version": "3.12.4"
  }
 },
 "nbformat": 4,
 "nbformat_minor": 5
}
